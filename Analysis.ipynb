{
 "cells": [
  {
   "cell_type": "markdown",
   "id": "81b701d4",
   "metadata": {},
   "source": [
    "# Rating Options Survey Analysis"
   ]
  },
  {
   "cell_type": "markdown",
   "id": "d700655a",
   "metadata": {},
   "source": [
    "# Methodology\n",
    "\n",
    "*Explain your survey methodology here.*"
   ]
  },
  {
   "cell_type": "markdown",
   "id": "da3d4e04-4254-4151-897e-be0b23c530dc",
   "metadata": {},
   "source": [
    "# Summary\n",
    "\n",
    "*Summarize your analysis and results here.*"
   ]
  },
  {
   "cell_type": "code",
   "execution_count": 1,
   "id": "70a8b2bd",
   "metadata": {
    "tags": []
   },
   "outputs": [],
   "source": [
    "import pandas\n",
    "import seaborn\n",
    "import matplotlib.pyplot as plt\n",
    "\n",
    "# Set the plot format to SVG for better quality plots\n",
    "from matplotlib_inline.backend_inline import set_matplotlib_formats\n",
    "set_matplotlib_formats('retina')\n",
    "\n",
    "%matplotlib inline"
   ]
  },
  {
   "cell_type": "code",
   "execution_count": 2,
   "id": "4b76d286",
   "metadata": {
    "tags": []
   },
   "outputs": [],
   "source": [
    "df = pandas.read_csv('rating-options-survey.csv')"
   ]
  },
  {
   "cell_type": "code",
   "execution_count": 3,
   "id": "c60124b7",
   "metadata": {
    "tags": []
   },
   "outputs": [],
   "source": [
    "# Set up columns, themes, colors\n",
    "timestamp, option1_rating, option1_like, option1_dislike, option2_rating, option2_like, option2_dislike, option3_rating, option3_like, option3_dislike, other_comments, = df.columns\n",
    "\n",
    "rating_cols = [option1_rating, option2_rating, option3_rating]\n",
    "\n",
    "themes = [\"option1\", \"option2\", \"option3\"]\n",
    "n_themes = len(themes)\n",
    "theme_colors = [\"blue\", \"red\", \"yellow\", \"green\"]\n",
    "\n",
    "n_responses = len(df)"
   ]
  },
  {
   "cell_type": "code",
   "execution_count": 4,
   "id": "4360d7d9",
   "metadata": {},
   "outputs": [],
   "source": [
    "## Functions to determine complimentary color\n",
    "## https://stackoverflow.com/questions/40233986/python-is-there-a-function-or-formula-to-find-the-complementary-colour-of-a-rgb\n",
    "\n",
    "# Sum of the min & max of (a, b, c)\n",
    "def hilo(a, b, c):\n",
    "    if c < b: b, c = c, b\n",
    "    if b < a: a, b = b, a\n",
    "    if c < b: b, c = c, b\n",
    "    return a + c\n",
    "\n",
    "# Get complimentary color\n",
    "def complement(r, g, b):\n",
    "    k = hilo(r, g, b)\n",
    "    return tuple(k - u for u in (r, g, b))"
   ]
  },
  {
   "cell_type": "markdown",
   "id": "893513dd",
   "metadata": {},
   "source": [
    "## Ratings\n",
    "\n",
    "*Customize this text: The survey asked respondents to rate the usefulness of four themes on a 1-4 scale, with 1 being Not very useful and 4 being Very useful.*\n",
    "\n",
    "The mean and standard deviation of the rating for each option are expressed numerically and graphically as:"
   ]
  },
  {
   "cell_type": "code",
   "execution_count": 5,
   "id": "9577952a",
   "metadata": {},
   "outputs": [
    {
     "data": {
      "text/html": [
       "<div>\n",
       "<style scoped>\n",
       "    .dataframe tbody tr th:only-of-type {\n",
       "        vertical-align: middle;\n",
       "    }\n",
       "\n",
       "    .dataframe tbody tr th {\n",
       "        vertical-align: top;\n",
       "    }\n",
       "\n",
       "    .dataframe thead th {\n",
       "        text-align: right;\n",
       "    }\n",
       "</style>\n",
       "<table border=\"1\" class=\"dataframe\">\n",
       "  <thead>\n",
       "    <tr style=\"text-align: right;\">\n",
       "      <th></th>\n",
       "      <th>mean</th>\n",
       "      <th>std</th>\n",
       "    </tr>\n",
       "  </thead>\n",
       "  <tbody>\n",
       "    <tr>\n",
       "      <th>How useful is option 1?</th>\n",
       "      <td>2.00</td>\n",
       "      <td>1.00</td>\n",
       "    </tr>\n",
       "    <tr>\n",
       "      <th>How useful is option 2?</th>\n",
       "      <td>2.67</td>\n",
       "      <td>1.53</td>\n",
       "    </tr>\n",
       "    <tr>\n",
       "      <th>How useful is option 3?</th>\n",
       "      <td>3.67</td>\n",
       "      <td>0.58</td>\n",
       "    </tr>\n",
       "  </tbody>\n",
       "</table>\n",
       "</div>"
      ],
      "text/plain": [
       "                         mean   std\n",
       "How useful is option 1?  2.00  1.00\n",
       "How useful is option 2?  2.67  1.53\n",
       "How useful is option 3?  3.67  0.58"
      ]
     },
     "execution_count": 5,
     "metadata": {},
     "output_type": "execute_result"
    }
   ],
   "source": [
    "df[rating_cols].describe().transpose()[[\"mean\",\"std\"]].round(2)"
   ]
  },
  {
   "cell_type": "code",
   "execution_count": 6,
   "id": "4c371b03",
   "metadata": {},
   "outputs": [],
   "source": [
    "# So seaborn can automatically plot standard deviations as error bars,\n",
    "# combine all ratings into one column, paired with theme\n",
    "all_themes = []\n",
    "for theme in themes:\n",
    "    this_theme = [theme] * n_responses\n",
    "    all_themes += this_theme\n",
    "\n",
    "all_ratings = []\n",
    "for col in rating_cols:\n",
    "    this_theme_ratings = list(df[col])\n",
    "    all_ratings += this_theme_ratings\n",
    "\n",
    "df_combined = pandas.DataFrame(list(zip(all_themes, all_ratings)), columns = ['theme', 'rating'])\n"
   ]
  },
  {
   "cell_type": "code",
   "execution_count": 7,
   "metadata": {},
   "outputs": [
    {
     "data": {
      "image/png": "[encoded data removed]",
      "text/plain": [
       "<Figure size 432x288 with 1 Axes>"
      ]
     },
     "metadata": {
      "image/png": {
       "height": 252,
       "width": 387
      },
      "needs_background": "light"
     },
     "output_type": "display_data"
    }
   ],
   "source": [
    "rating_min = 1\n",
    "rating_max = 4\n",
    "num_bins = rating_max - rating_min + 1\n",
    "rating_values = range(rating_min, rating_max + 1)\n",
    "\n",
    "t = seaborn.barplot(\n",
    "    data=df_combined, \n",
    "    x=\"theme\", \n",
    "    y=\"rating\",\n",
    "    capsize=0.2,\n",
    "    errwidth=0.5,\n",
    "    palette=theme_colors, \n",
    "    alpha=.6, \n",
    ")\n",
    "t.set_yticks(rating_values)\n",
    "t.bar_label(\n",
    "    t.containers[0], \n",
    "    # label_type = 'center', \n",
    "    fmt='%.2f',\n",
    "    padding = 4,\n",
    "    bbox=dict(\n",
    "        fc = \"white\", \n",
    "        lw = 0,\n",
    "    )\n",
    ")\n",
    "\n",
    "y_label = f\"How useful is each theme?\\n{rating_min}\"\n",
    "y_label += \"= Not very useful\" + \"             \" + f\"Very useful = {rating_max}\"\n",
    "\n",
    "t.set(xlabel='', ylabel=y_label)\n",
    "t.set(ylim=(rating_min,rating_max))\n",
    "\n",
    "t.grid(False)"
   ]
  },
  {
   "cell_type": "markdown",
   "id": "55755f58",
   "metadata": {},
   "source": [
    "*Summarize the rating results here.*"
   ]
  },
  {
   "cell_type": "markdown",
   "id": "1488d2ba",
   "metadata": {},
   "source": [
    "## Rating Distribution for Options"
   ]
  },
  {
   "cell_type": "markdown",
   "id": "76027b89",
   "metadata": {},
   "source": [
    "For each option, a histogram displays the count of responses for each rating level, from 1 to 4, and the dashed vertical line indicates the mean rating."
   ]
  },
  {
   "cell_type": "code",
   "execution_count": 8,
   "id": "86eb44f5",
   "metadata": {},
   "outputs": [
    {
     "data": {
      "image/png": "[encoded data removed]",
      "text/plain": [
       "<Figure size 360x1080 with 3 Axes>"
      ]
     },
     "metadata": {
      "image/png": {
       "height": 902,
       "width": 310
      },
      "needs_background": "light"
     },
     "output_type": "display_data"
    }
   ],
   "source": [
    "import matplotlib\n",
    "import matplotlib.ticker as mticker\n",
    "\n",
    "fig, axes = plt.subplots(n_themes, figsize=(5, 15))\n",
    "plt.subplots_adjust(hspace = 0)\n",
    "\n",
    "for theme_num, theme in enumerate(themes):\n",
    "    graph = seaborn.histplot(\n",
    "    ax=axes[theme_num],\n",
    "    data=df,\n",
    "    x = rating_cols[theme_num],\n",
    "    bins = num_bins,\n",
    "    binrange=[rating_min,rating_max],\n",
    "    color=theme_colors[theme_num],\n",
    "    alpha = 0.6,\n",
    "    edgecolor=\"white\"\n",
    "    )\n",
    "    \n",
    "    ## Add vertical line at mean of each theme\n",
    "\n",
    "    # Get RGB of bar's color\n",
    "    bar_rgb = matplotlib.colors.to_rgb(theme_colors[theme_num])\n",
    "    line_rgb = complement(*bar_rgb)\n",
    "\n",
    "    #   https://datavizpyr.com/how-to-add-a-mean-median-line-to-a-seaborn-displot/\n",
    "    graph.axvline(x=df[rating_cols[theme_num]].mean(),\n",
    "        ls='--',\n",
    "        color=line_rgb,\n",
    "        ymax = 0.95\n",
    "    )\n",
    "    graph.set(ylabel=themes[theme_num] + \" count\")\n",
    "    graph.grid(False)             # remove gridlines\n",
    "    graph.set(yticklabels=[])     # remove y-axis tick labels\n",
    "\n",
    "    # Add labels to bars: Percents\n",
    "    theme_cats = df[rating_cols[theme_num]].dropna().astype(int).value_counts(sort=False).sort_index()\n",
    "\n",
    "    # Ensure each bar has an entry in list\n",
    "    denom = sum(theme_cats) / 100\n",
    "    percents_cats = []\n",
    "    for cat in range(rating_min, rating_max + 1):\n",
    "        if cat in theme_cats:\n",
    "            pct = theme_cats[cat] / denom\n",
    "            percents_cats += [\"%.0f%%\" % pct]\n",
    "        else:\n",
    "            percents_cats += [\"\"]\n",
    "\n",
    "    l = graph.bar_label(\n",
    "        graph.containers[0], \n",
    "        percents_cats, \n",
    "        )\n",
    "\n",
    "    # Hide tick marks by making them zero length\n",
    "    graph.tick_params(length = 0)\n",
    "\n",
    "    if theme_num in range(1, n_themes - 2):\n",
    "        # For graphs in the middle (neither top nor bottom),\n",
    "        #   remove x axis and tick labels\n",
    "        graph.set(xlabel='')\n",
    "        graph.set_xticklabels([])\n",
    "    else:\n",
    "        # For graphs at top and bottom,\n",
    "        #   show x-axis title and tick labels\n",
    "\n",
    "        # Fixing yticks with matplotlib.ticker \"FixedLocator\"\n",
    "        #   https://stackoverflow.com/questions/63723514/userwarning-fixedformatter-should-only-be-used-together-with-fixedlocator\n",
    "        label_format = '{:,.0f}'\n",
    "        ticks_loc = graph.get_xticks().tolist()\n",
    "        graph.xaxis.set_major_locator(mticker.FixedLocator(ticks_loc))\n",
    "        graph.set_xticklabels([label_format.format(x) for x in ticks_loc])\n",
    "\n",
    "        # Center labels on bars (columns)\n",
    "        #   https://stackoverflow.com/questions/63516973/how-can-i-mark-xticks-at-the-center-of-bins-for-a-seaborn-distplot\n",
    "        mids = [rect.get_x() + rect.get_width() / 2 for rect in graph.patches]\n",
    "        graph.set_xticks(mids)\n",
    "\n",
    "        graph.set(xlabel='How useful is each theme?')\n",
    "        graph.set_xticklabels(['1\\nNot very','2\\n','3\\n','4\\nVery'])\n",
    "\n",
    "        if theme_num == 0:\n",
    "            graph.xaxis.set_ticks_position(\"top\")\n",
    "            graph.xaxis.set_label_position(\"top\")\n"
   ]
  },
  {
   "cell_type": "markdown",
   "id": "7d210680",
   "metadata": {},
   "source": [
    "*Summarize the rating distribution results here.*"
   ]
  },
  {
   "cell_type": "markdown",
   "id": "e3614f63-5937-47f4-9a96-8514fc795c1d",
   "metadata": {},
   "source": [
    "# Other comments from respondents\n",
    "\n",
    "*Customize this block: Finally, notable responses to \"Are there any other comments you'd like to make?\" include:*\n",
    "\n",
    "- *Notable comment 1*\n",
    "- *Notable comment 2*"
   ]
  },
  {
   "cell_type": "markdown",
   "id": "155099a5",
   "metadata": {},
   "source": [
    "# Appendix: All comments from respondents\n",
    "\n",
    "For the sake of completeness, all comments are shown below."
   ]
  },
  {
   "cell_type": "code",
   "execution_count": 9,
   "id": "5e8b0fd7",
   "metadata": {},
   "outputs": [],
   "source": [
    "def print_answers(col):\n",
    "    i = 1\n",
    "    for v in df[col].iloc:\n",
    "        if pandas.isna(v):\n",
    "            continue\n",
    "        print(f\"{i}. {v.strip()}\\n\")\n",
    "        i += 1"
   ]
  },
  {
   "cell_type": "code",
   "execution_count": 10,
   "id": "da2d12be",
   "metadata": {},
   "outputs": [
    {
     "name": "stdout",
     "output_type": "stream",
     "text": [
      "--- What do you LIKE about option 1? ---\n",
      "1. Colors\n",
      "\n",
      "2. Nothing\n",
      "\n",
      "3. Styling\n",
      "\n",
      "--- What do you DISLIKE about option 1? ---\n",
      "1. Navigation\n",
      "\n",
      "2. Links, layout\n",
      "\n",
      "3. Links\n",
      "\n",
      "--- What do you LIKE about option 2? ---\n",
      "1. Nothing\n",
      "\n",
      "2. Links, layout\n",
      "\n",
      "3. Clean design\n",
      "\n",
      "--- What do you DISLIKE about option 2? ---\n",
      "1. Colors, navigation\n",
      "\n",
      "2. Navigation bar too wide\n",
      "\n",
      "--- What do you LIKE about option 3? ---\n",
      "1. Everything\n",
      "\n",
      "2. Links\n",
      "\n",
      "3. Navigation bar, colors\n",
      "\n",
      "--- What do you DISLIKE about option 3? ---\n",
      "1. Nothing\n",
      "\n",
      "2. Layout\n",
      "\n",
      "--- Are there any other comments you'd like to make? ---\n",
      "1. Thanks for getting community input\n",
      "\n"
     ]
    }
   ],
   "source": [
    "tag = \"---\"\n",
    "for name, values in df.iteritems():\n",
    "    if \"like\" in str(name).lower():\n",
    "        print(tag + \" \" + name + \" \" + tag)\n",
    "        print_answers(name)"
   ]
  }
 ],
 "metadata": {
  "kernelspec": {
   "display_name": "Python 3 (ipykernel)",
   "language": "python",
   "name": "python3"
  },
  "language_info": {
   "codemirror_mode": {
    "name": "ipython",
    "version": 3
   },
   "file_extension": ".py",
   "mimetype": "text/x-python",
   "name": "python",
   "nbconvert_exporter": "python",
   "pygments_lexer": "ipython3",
   "version": "3.9.7"
  }
 },
 "nbformat": 4,
 "nbformat_minor": 5
}
